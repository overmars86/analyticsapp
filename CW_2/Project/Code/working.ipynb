{
 "cells": [
  {
   "cell_type": "code",
   "execution_count": 1,
   "metadata": {},
   "outputs": [],
   "source": [
    "import pandas as pd\n",
    "import numpy as np\n",
    "import matplotlib.pyplot as plt\n",
    "pd.set_option('display.max_rows', 500)\n",
    "pd.set_option('display.max_columns', 500)\n",
    "pd.set_option('display.width', 1000)"
   ]
  },
  {
   "cell_type": "code",
   "execution_count": 2,
   "metadata": {},
   "outputs": [],
   "source": [
    "df = pd.read_json('../data/sample_small.json', lines=True)"
   ]
  },
  {
   "cell_type": "code",
   "execution_count": 3,
   "metadata": {},
   "outputs": [
    {
     "data": {
      "text/html": [
       "<div>\n",
       "<style scoped>\n",
       "    .dataframe tbody tr th:only-of-type {\n",
       "        vertical-align: middle;\n",
       "    }\n",
       "\n",
       "    .dataframe tbody tr th {\n",
       "        vertical-align: top;\n",
       "    }\n",
       "\n",
       "    .dataframe thead th {\n",
       "        text-align: right;\n",
       "    }\n",
       "</style>\n",
       "<table border=\"1\" class=\"dataframe\">\n",
       "  <thead>\n",
       "    <tr style=\"text-align: right;\">\n",
       "      <th></th>\n",
       "      <th>ts</th>\n",
       "      <th>visitor_uuid</th>\n",
       "      <th>visitor_source</th>\n",
       "      <th>visitor_device</th>\n",
       "      <th>visitor_useragent</th>\n",
       "      <th>visitor_ip</th>\n",
       "      <th>visitor_country</th>\n",
       "      <th>visitor_referrer</th>\n",
       "      <th>env_type</th>\n",
       "      <th>env_doc_id</th>\n",
       "      <th>event_type</th>\n",
       "      <th>subject_type</th>\n",
       "      <th>subject_doc_id</th>\n",
       "      <th>subject_page</th>\n",
       "      <th>cause_type</th>\n",
       "      <th>event_readtime</th>\n",
       "      <th>env_ranking</th>\n",
       "      <th>env_build</th>\n",
       "      <th>env_name</th>\n",
       "      <th>env_component</th>\n",
       "      <th>visitor_username</th>\n",
       "      <th>event_index</th>\n",
       "      <th>subject_infoboxid</th>\n",
       "      <th>subject_url</th>\n",
       "      <th>cause_position</th>\n",
       "      <th>cause_adid</th>\n",
       "      <th>env_adid</th>\n",
       "      <th>cause_embedid</th>\n",
       "    </tr>\n",
       "  </thead>\n",
       "  <tbody>\n",
       "    <tr>\n",
       "      <th>0</th>\n",
       "      <td>1393631983</td>\n",
       "      <td>04daa9ed9dde73d3</td>\n",
       "      <td>external</td>\n",
       "      <td>browser</td>\n",
       "      <td>Mozilla/5.0 (Windows NT 6.1; WOW64) AppleWebKi...</td>\n",
       "      <td>6a3273d508a9de04</td>\n",
       "      <td>ES</td>\n",
       "      <td>64f729926497515c</td>\n",
       "      <td>reader</td>\n",
       "      <td>140224195414-e5a9acedd5eb6631bb6b39422fba6798</td>\n",
       "      <td>impression</td>\n",
       "      <td>doc</td>\n",
       "      <td>140224195414-e5a9acedd5eb6631bb6b39422fba6798</td>\n",
       "      <td>0.0</td>\n",
       "      <td>impression</td>\n",
       "      <td>NaN</td>\n",
       "      <td>NaN</td>\n",
       "      <td>NaN</td>\n",
       "      <td>NaN</td>\n",
       "      <td>NaN</td>\n",
       "      <td>NaN</td>\n",
       "      <td>NaN</td>\n",
       "      <td>NaN</td>\n",
       "      <td>NaN</td>\n",
       "      <td>NaN</td>\n",
       "      <td>NaN</td>\n",
       "      <td>NaN</td>\n",
       "      <td>NaN</td>\n",
       "    </tr>\n",
       "    <tr>\n",
       "      <th>1</th>\n",
       "      <td>1393631983</td>\n",
       "      <td>04daa9ed9dde73d3</td>\n",
       "      <td>external</td>\n",
       "      <td>browser</td>\n",
       "      <td>Mozilla/5.0 (Windows NT 6.1; WOW64) AppleWebKi...</td>\n",
       "      <td>6a3273d508a9de04</td>\n",
       "      <td>ES</td>\n",
       "      <td>64f729926497515c</td>\n",
       "      <td>reader</td>\n",
       "      <td>140224195414-e5a9acedd5eb6631bb6b39422fba6798</td>\n",
       "      <td>impression</td>\n",
       "      <td>doc</td>\n",
       "      <td>140224195414-e5a9acedd5eb6631bb6b39422fba6798</td>\n",
       "      <td>1.0</td>\n",
       "      <td>page</td>\n",
       "      <td>NaN</td>\n",
       "      <td>NaN</td>\n",
       "      <td>NaN</td>\n",
       "      <td>NaN</td>\n",
       "      <td>NaN</td>\n",
       "      <td>NaN</td>\n",
       "      <td>NaN</td>\n",
       "      <td>NaN</td>\n",
       "      <td>NaN</td>\n",
       "      <td>NaN</td>\n",
       "      <td>NaN</td>\n",
       "      <td>NaN</td>\n",
       "      <td>NaN</td>\n",
       "    </tr>\n",
       "    <tr>\n",
       "      <th>2</th>\n",
       "      <td>1393631983</td>\n",
       "      <td>ade7e1f63bc83c66</td>\n",
       "      <td>external</td>\n",
       "      <td>browser</td>\n",
       "      <td>Opera/9.80 (Windows NT 6.1) Presto/2.12.388 Ve...</td>\n",
       "      <td>b5af0ba608ab307c</td>\n",
       "      <td>BR</td>\n",
       "      <td>53c643c16e8253e7</td>\n",
       "      <td>reader</td>\n",
       "      <td>140222143932-91796b01f94327ee809bd759fd0f6c76</td>\n",
       "      <td>pagereadtime</td>\n",
       "      <td>doc</td>\n",
       "      <td>140222143932-91796b01f94327ee809bd759fd0f6c76</td>\n",
       "      <td>2.0</td>\n",
       "      <td>NaN</td>\n",
       "      <td>1035.0</td>\n",
       "      <td>NaN</td>\n",
       "      <td>NaN</td>\n",
       "      <td>NaN</td>\n",
       "      <td>NaN</td>\n",
       "      <td>NaN</td>\n",
       "      <td>NaN</td>\n",
       "      <td>NaN</td>\n",
       "      <td>NaN</td>\n",
       "      <td>NaN</td>\n",
       "      <td>NaN</td>\n",
       "      <td>NaN</td>\n",
       "      <td>NaN</td>\n",
       "    </tr>\n",
       "    <tr>\n",
       "      <th>3</th>\n",
       "      <td>1393631983</td>\n",
       "      <td>ade7e1f63bc83c66</td>\n",
       "      <td>external</td>\n",
       "      <td>browser</td>\n",
       "      <td>Opera/9.80 (Windows NT 6.1) Presto/2.12.388 Ve...</td>\n",
       "      <td>b5af0ba608ab307c</td>\n",
       "      <td>BR</td>\n",
       "      <td>53c643c16e8253e7</td>\n",
       "      <td>reader</td>\n",
       "      <td>140222143932-91796b01f94327ee809bd759fd0f6c76</td>\n",
       "      <td>pagereadtime</td>\n",
       "      <td>doc</td>\n",
       "      <td>140222143932-91796b01f94327ee809bd759fd0f6c76</td>\n",
       "      <td>3.0</td>\n",
       "      <td>NaN</td>\n",
       "      <td>1010.0</td>\n",
       "      <td>NaN</td>\n",
       "      <td>NaN</td>\n",
       "      <td>NaN</td>\n",
       "      <td>NaN</td>\n",
       "      <td>NaN</td>\n",
       "      <td>NaN</td>\n",
       "      <td>NaN</td>\n",
       "      <td>NaN</td>\n",
       "      <td>NaN</td>\n",
       "      <td>NaN</td>\n",
       "      <td>NaN</td>\n",
       "      <td>NaN</td>\n",
       "    </tr>\n",
       "    <tr>\n",
       "      <th>4</th>\n",
       "      <td>1393631983</td>\n",
       "      <td>232eeca785873d35</td>\n",
       "      <td>internal</td>\n",
       "      <td>browser</td>\n",
       "      <td>Mozilla/5.0 (Windows NT 6.1; WOW64) AppleWebKi...</td>\n",
       "      <td>fcf9c67037f993f0</td>\n",
       "      <td>MX</td>\n",
       "      <td>63765fcd2ff864fd</td>\n",
       "      <td>stream</td>\n",
       "      <td>NaN</td>\n",
       "      <td>impression</td>\n",
       "      <td>doc</td>\n",
       "      <td>100713205147-2ee05a98f1794324952eea5ca678c026</td>\n",
       "      <td>1.0</td>\n",
       "      <td>NaN</td>\n",
       "      <td>NaN</td>\n",
       "      <td>10.0</td>\n",
       "      <td>1.7.118-b946</td>\n",
       "      <td>explore</td>\n",
       "      <td>editors_picks</td>\n",
       "      <td>NaN</td>\n",
       "      <td>NaN</td>\n",
       "      <td>NaN</td>\n",
       "      <td>NaN</td>\n",
       "      <td>NaN</td>\n",
       "      <td>NaN</td>\n",
       "      <td>NaN</td>\n",
       "      <td>NaN</td>\n",
       "    </tr>\n",
       "  </tbody>\n",
       "</table>\n",
       "</div>"
      ],
      "text/plain": [
       "           ts      visitor_uuid visitor_source visitor_device                                  visitor_useragent        visitor_ip visitor_country  visitor_referrer env_type                                     env_doc_id    event_type subject_type                                 subject_doc_id  subject_page  cause_type  event_readtime  env_ranking     env_build env_name  env_component visitor_username  event_index  subject_infoboxid subject_url  cause_position cause_adid env_adid cause_embedid\n",
       "0  1393631983  04daa9ed9dde73d3       external        browser  Mozilla/5.0 (Windows NT 6.1; WOW64) AppleWebKi...  6a3273d508a9de04              ES  64f729926497515c   reader  140224195414-e5a9acedd5eb6631bb6b39422fba6798    impression          doc  140224195414-e5a9acedd5eb6631bb6b39422fba6798           0.0  impression             NaN          NaN           NaN      NaN            NaN              NaN          NaN                NaN         NaN             NaN        NaN      NaN           NaN\n",
       "1  1393631983  04daa9ed9dde73d3       external        browser  Mozilla/5.0 (Windows NT 6.1; WOW64) AppleWebKi...  6a3273d508a9de04              ES  64f729926497515c   reader  140224195414-e5a9acedd5eb6631bb6b39422fba6798    impression          doc  140224195414-e5a9acedd5eb6631bb6b39422fba6798           1.0        page             NaN          NaN           NaN      NaN            NaN              NaN          NaN                NaN         NaN             NaN        NaN      NaN           NaN\n",
       "2  1393631983  ade7e1f63bc83c66       external        browser  Opera/9.80 (Windows NT 6.1) Presto/2.12.388 Ve...  b5af0ba608ab307c              BR  53c643c16e8253e7   reader  140222143932-91796b01f94327ee809bd759fd0f6c76  pagereadtime          doc  140222143932-91796b01f94327ee809bd759fd0f6c76           2.0         NaN          1035.0          NaN           NaN      NaN            NaN              NaN          NaN                NaN         NaN             NaN        NaN      NaN           NaN\n",
       "3  1393631983  ade7e1f63bc83c66       external        browser  Opera/9.80 (Windows NT 6.1) Presto/2.12.388 Ve...  b5af0ba608ab307c              BR  53c643c16e8253e7   reader  140222143932-91796b01f94327ee809bd759fd0f6c76  pagereadtime          doc  140222143932-91796b01f94327ee809bd759fd0f6c76           3.0         NaN          1010.0          NaN           NaN      NaN            NaN              NaN          NaN                NaN         NaN             NaN        NaN      NaN           NaN\n",
       "4  1393631983  232eeca785873d35       internal        browser  Mozilla/5.0 (Windows NT 6.1; WOW64) AppleWebKi...  fcf9c67037f993f0              MX  63765fcd2ff864fd   stream                                            NaN    impression          doc  100713205147-2ee05a98f1794324952eea5ca678c026           1.0         NaN             NaN         10.0  1.7.118-b946  explore  editors_picks              NaN          NaN                NaN         NaN             NaN        NaN      NaN           NaN"
      ]
     },
     "execution_count": 3,
     "metadata": {},
     "output_type": "execute_result"
    }
   ],
   "source": [
    "df.head()"
   ]
  },
  {
   "cell_type": "code",
   "execution_count": 4,
   "metadata": {},
   "outputs": [
    {
     "data": {
      "text/html": [
       "<div>\n",
       "<style scoped>\n",
       "    .dataframe tbody tr th:only-of-type {\n",
       "        vertical-align: middle;\n",
       "    }\n",
       "\n",
       "    .dataframe tbody tr th {\n",
       "        vertical-align: top;\n",
       "    }\n",
       "\n",
       "    .dataframe thead th {\n",
       "        text-align: right;\n",
       "    }\n",
       "</style>\n",
       "<table border=\"1\" class=\"dataframe\">\n",
       "  <thead>\n",
       "    <tr style=\"text-align: right;\">\n",
       "      <th></th>\n",
       "      <th>visitor_uuid</th>\n",
       "      <th>visitor_country</th>\n",
       "      <th>env_doc_id</th>\n",
       "    </tr>\n",
       "  </thead>\n",
       "  <tbody>\n",
       "    <tr>\n",
       "      <th>0</th>\n",
       "      <td>04daa9ed9dde73d3</td>\n",
       "      <td>ES</td>\n",
       "      <td>140224195414-e5a9acedd5eb6631bb6b39422fba6798</td>\n",
       "    </tr>\n",
       "    <tr>\n",
       "      <th>1</th>\n",
       "      <td>04daa9ed9dde73d3</td>\n",
       "      <td>ES</td>\n",
       "      <td>140224195414-e5a9acedd5eb6631bb6b39422fba6798</td>\n",
       "    </tr>\n",
       "    <tr>\n",
       "      <th>2</th>\n",
       "      <td>ade7e1f63bc83c66</td>\n",
       "      <td>BR</td>\n",
       "      <td>140222143932-91796b01f94327ee809bd759fd0f6c76</td>\n",
       "    </tr>\n",
       "    <tr>\n",
       "      <th>3</th>\n",
       "      <td>ade7e1f63bc83c66</td>\n",
       "      <td>BR</td>\n",
       "      <td>140222143932-91796b01f94327ee809bd759fd0f6c76</td>\n",
       "    </tr>\n",
       "    <tr>\n",
       "      <th>4</th>\n",
       "      <td>232eeca785873d35</td>\n",
       "      <td>MX</td>\n",
       "      <td>NaN</td>\n",
       "    </tr>\n",
       "  </tbody>\n",
       "</table>\n",
       "</div>"
      ],
      "text/plain": [
       "       visitor_uuid visitor_country                                     env_doc_id\n",
       "0  04daa9ed9dde73d3              ES  140224195414-e5a9acedd5eb6631bb6b39422fba6798\n",
       "1  04daa9ed9dde73d3              ES  140224195414-e5a9acedd5eb6631bb6b39422fba6798\n",
       "2  ade7e1f63bc83c66              BR  140222143932-91796b01f94327ee809bd759fd0f6c76\n",
       "3  ade7e1f63bc83c66              BR  140222143932-91796b01f94327ee809bd759fd0f6c76\n",
       "4  232eeca785873d35              MX                                            NaN"
      ]
     },
     "execution_count": 4,
     "metadata": {},
     "output_type": "execute_result"
    }
   ],
   "source": [
    "df_count = df[['visitor_uuid','visitor_country','env_doc_id']]\n",
    "df_count.head()"
   ]
  },
  {
   "cell_type": "code",
   "execution_count": 5,
   "metadata": {},
   "outputs": [],
   "source": [
    "df_count = df_count.loc[df_count['env_doc_id'] == \"140222143932-91796b01f94327ee809bd759fd0f6c76\"]"
   ]
  },
  {
   "cell_type": "code",
   "execution_count": 6,
   "metadata": {},
   "outputs": [],
   "source": [
    "df_count['visitor_uuid'] = df_count['visitor_uuid'].drop_duplicates()"
   ]
  },
  {
   "cell_type": "code",
   "execution_count": 7,
   "metadata": {},
   "outputs": [],
   "source": [
    "df_count = df_count[['visitor_uuid','visitor_country']]"
   ]
  },
  {
   "cell_type": "code",
   "execution_count": 8,
   "metadata": {},
   "outputs": [],
   "source": [
    "df_count_gp = df_count.groupby(by='visitor_country').count().sort_values(by='visitor_uuid', ascending=False).reset_index()"
   ]
  },
  {
   "cell_type": "code",
   "execution_count": 9,
   "metadata": {},
   "outputs": [
    {
     "data": {
      "text/html": [
       "<div>\n",
       "<style scoped>\n",
       "    .dataframe tbody tr th:only-of-type {\n",
       "        vertical-align: middle;\n",
       "    }\n",
       "\n",
       "    .dataframe tbody tr th {\n",
       "        vertical-align: top;\n",
       "    }\n",
       "\n",
       "    .dataframe thead th {\n",
       "        text-align: right;\n",
       "    }\n",
       "</style>\n",
       "<table border=\"1\" class=\"dataframe\">\n",
       "  <thead>\n",
       "    <tr style=\"text-align: right;\">\n",
       "      <th></th>\n",
       "      <th>visitor_country</th>\n",
       "      <th>visitor_uuid</th>\n",
       "    </tr>\n",
       "  </thead>\n",
       "  <tbody>\n",
       "    <tr>\n",
       "      <th>0</th>\n",
       "      <td>BR</td>\n",
       "      <td>1</td>\n",
       "    </tr>\n",
       "  </tbody>\n",
       "</table>\n",
       "</div>"
      ],
      "text/plain": [
       "  visitor_country  visitor_uuid\n",
       "0              BR             1"
      ]
     },
     "execution_count": 9,
     "metadata": {},
     "output_type": "execute_result"
    }
   ],
   "source": [
    "df_count_gp.head(10)"
   ]
  },
  {
   "cell_type": "code",
   "execution_count": 10,
   "metadata": {},
   "outputs": [
    {
     "data": {
      "text/plain": [
       "<AxesSubplot: xlabel='visitor_country'>"
      ]
     },
     "execution_count": 10,
     "metadata": {},
     "output_type": "execute_result"
    },
    {
     "data": {
      "image/png": "[encoded data removed]",
      "text/plain": [
       "<Figure size 640x480 with 1 Axes>"
      ]
     },
     "metadata": {},
     "output_type": "display_data"
    }
   ],
   "source": [
    "df_count_gp.plot(kind='bar', x='visitor_country')"
   ]
  },
  {
   "cell_type": "code",
   "execution_count": 17,
   "metadata": {},
   "outputs": [
    {
     "name": "stderr",
     "output_type": "stream",
     "text": [
      "c:\\Users\\abdelsalam\\OneDrive - Emicool\\Documents\\HW\\SC\\analyticsapp\\.venv\\lib\\site-packages\\numpy\\core\\fromnumeric.py:43: VisibleDeprecationWarning: Creating an ndarray from ragged nested sequences (which is a list-or-tuple of lists-or-tuples-or ndarrays with different lengths or shapes) is deprecated. If you meant to do this, you must specify 'dtype=object' when creating the ndarray.\n",
      "  result = getattr(asarray(obj), method)(*args, **kwds)\n"
     ]
    },
    {
     "data": {
      "image/png": "[encoded data removed]",
      "text/plain": [
       "<Figure size 640x480 with 1 Axes>"
      ]
     },
     "metadata": {},
     "output_type": "display_data"
    }
   ],
   "source": [
    "fig, ax = plt.subplots()\n",
    "ax.bar(x=df_count_gp['visitor_country'], y=df_count_gp['visitor_uuid'], height=1)\n",
    "plt.show()"
   ]
  },
  {
   "cell_type": "code",
   "execution_count": null,
   "metadata": {},
   "outputs": [],
   "source": []
  }
 ],
 "metadata": {
  "kernelspec": {
   "display_name": "Python 3.10.8 ('.venv': venv)",
   "language": "python",
   "name": "python3"
  },
  "language_info": {
   "codemirror_mode": {
    "name": "ipython",
    "version": 3
   },
   "file_extension": ".py",
   "mimetype": "text/x-python",
   "name": "python",
   "nbconvert_exporter": "python",
   "pygments_lexer": "ipython3",
   "version": "3.10.8"
  },
  "orig_nbformat": 4,
  "vscode": {
   "interpreter": {
    "hash": "8a72adc7ff743d70cdea274fac2a5d5f39dce0806ed32c0ec4bebc1766b4bc78"
   }
  }
 },
 "nbformat": 4,
 "nbformat_minor": 2
}
