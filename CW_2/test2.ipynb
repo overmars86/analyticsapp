{
 "cells": [
  {
   "cell_type": "code",
   "execution_count": 1,
   "metadata": {},
   "outputs": [],
   "source": [
    "def my_sum(*arg):\n",
    "    re = 0\n",
    "    for x in arg:\n",
    "        re += x\n",
    "    return re"
   ]
  },
  {
   "cell_type": "code",
   "execution_count": 2,
   "metadata": {},
   "outputs": [
    {
     "data": {
      "text/plain": [
       "19"
      ]
     },
     "execution_count": 2,
     "metadata": {},
     "output_type": "execute_result"
    }
   ],
   "source": [
    "my_sum(5,6,3,5)"
   ]
  },
  {
   "cell_type": "code",
   "execution_count": 20,
   "metadata": {},
   "outputs": [],
   "source": [
    "import pandas as pd\n",
    "pd.set_option('display.max_rows', 500)\n",
    "pd.set_option('display.max_columns', 500)\n",
    "pd.set_option('display.width', 1000)"
   ]
  },
  {
   "cell_type": "code",
   "execution_count": 15,
   "metadata": {},
   "outputs": [],
   "source": [
    "df = pd.read_json('./sample_small.json', lines=True)"
   ]
  },
  {
   "cell_type": "code",
   "execution_count": 17,
   "metadata": {},
   "outputs": [
    {
     "data": {
      "text/plain": [
       "(10240, 28)"
      ]
     },
     "execution_count": 17,
     "metadata": {},
     "output_type": "execute_result"
    }
   ],
   "source": [
    "df.shape"
   ]
  },
  {
   "cell_type": "code",
   "execution_count": 36,
   "metadata": {},
   "outputs": [
    {
     "data": {
      "text/html": [
       "<div>\n",
       "<style scoped>\n",
       "    .dataframe tbody tr th:only-of-type {\n",
       "        vertical-align: middle;\n",
       "    }\n",
       "\n",
       "    .dataframe tbody tr th {\n",
       "        vertical-align: top;\n",
       "    }\n",
       "\n",
       "    .dataframe thead th {\n",
       "        text-align: right;\n",
       "    }\n",
       "</style>\n",
       "<table border=\"1\" class=\"dataframe\">\n",
       "  <thead>\n",
       "    <tr style=\"text-align: right;\">\n",
       "      <th></th>\n",
       "      <th>ts</th>\n",
       "      <th>visitor_uuid</th>\n",
       "      <th>visitor_source</th>\n",
       "      <th>visitor_device</th>\n",
       "      <th>visitor_useragent</th>\n",
       "      <th>visitor_ip</th>\n",
       "      <th>visitor_country</th>\n",
       "      <th>visitor_referrer</th>\n",
       "      <th>env_type</th>\n",
       "      <th>env_doc_id</th>\n",
       "      <th>event_type</th>\n",
       "      <th>subject_type</th>\n",
       "      <th>subject_doc_id</th>\n",
       "      <th>subject_page</th>\n",
       "      <th>cause_type</th>\n",
       "      <th>event_readtime</th>\n",
       "      <th>env_ranking</th>\n",
       "      <th>env_build</th>\n",
       "      <th>env_name</th>\n",
       "      <th>env_component</th>\n",
       "      <th>visitor_username</th>\n",
       "      <th>event_index</th>\n",
       "      <th>subject_infoboxid</th>\n",
       "      <th>subject_url</th>\n",
       "      <th>cause_position</th>\n",
       "      <th>cause_adid</th>\n",
       "      <th>env_adid</th>\n",
       "      <th>cause_embedid</th>\n",
       "    </tr>\n",
       "  </thead>\n",
       "  <tbody>\n",
       "    <tr>\n",
       "      <th>0</th>\n",
       "      <td>1393631983</td>\n",
       "      <td>04daa9ed9dde73d3</td>\n",
       "      <td>external</td>\n",
       "      <td>browser</td>\n",
       "      <td>Mozilla/5.0 (Windows NT 6.1; WOW64) AppleWebKi...</td>\n",
       "      <td>6a3273d508a9de04</td>\n",
       "      <td>ES</td>\n",
       "      <td>64f729926497515c</td>\n",
       "      <td>reader</td>\n",
       "      <td>140224195414-e5a9acedd5eb6631bb6b39422fba6798</td>\n",
       "      <td>impression</td>\n",
       "      <td>doc</td>\n",
       "      <td>140224195414-e5a9acedd5eb6631bb6b39422fba6798</td>\n",
       "      <td>0.0</td>\n",
       "      <td>impression</td>\n",
       "      <td>NaN</td>\n",
       "      <td>NaN</td>\n",
       "      <td>NaN</td>\n",
       "      <td>NaN</td>\n",
       "      <td>NaN</td>\n",
       "      <td>NaN</td>\n",
       "      <td>NaN</td>\n",
       "      <td>NaN</td>\n",
       "      <td>NaN</td>\n",
       "      <td>NaN</td>\n",
       "      <td>NaN</td>\n",
       "      <td>NaN</td>\n",
       "      <td>NaN</td>\n",
       "    </tr>\n",
       "    <tr>\n",
       "      <th>1</th>\n",
       "      <td>1393631983</td>\n",
       "      <td>04daa9ed9dde73d3</td>\n",
       "      <td>external</td>\n",
       "      <td>browser</td>\n",
       "      <td>Mozilla/5.0 (Windows NT 6.1; WOW64) AppleWebKi...</td>\n",
       "      <td>6a3273d508a9de04</td>\n",
       "      <td>ES</td>\n",
       "      <td>64f729926497515c</td>\n",
       "      <td>reader</td>\n",
       "      <td>140224195414-e5a9acedd5eb6631bb6b39422fba6798</td>\n",
       "      <td>impression</td>\n",
       "      <td>doc</td>\n",
       "      <td>140224195414-e5a9acedd5eb6631bb6b39422fba6798</td>\n",
       "      <td>1.0</td>\n",
       "      <td>page</td>\n",
       "      <td>NaN</td>\n",
       "      <td>NaN</td>\n",
       "      <td>NaN</td>\n",
       "      <td>NaN</td>\n",
       "      <td>NaN</td>\n",
       "      <td>NaN</td>\n",
       "      <td>NaN</td>\n",
       "      <td>NaN</td>\n",
       "      <td>NaN</td>\n",
       "      <td>NaN</td>\n",
       "      <td>NaN</td>\n",
       "      <td>NaN</td>\n",
       "      <td>NaN</td>\n",
       "    </tr>\n",
       "    <tr>\n",
       "      <th>2</th>\n",
       "      <td>1393631983</td>\n",
       "      <td>ade7e1f63bc83c66</td>\n",
       "      <td>external</td>\n",
       "      <td>browser</td>\n",
       "      <td>Opera/9.80 (Windows NT 6.1) Presto/2.12.388 Ve...</td>\n",
       "      <td>b5af0ba608ab307c</td>\n",
       "      <td>BR</td>\n",
       "      <td>53c643c16e8253e7</td>\n",
       "      <td>reader</td>\n",
       "      <td>140222143932-91796b01f94327ee809bd759fd0f6c76</td>\n",
       "      <td>pagereadtime</td>\n",
       "      <td>doc</td>\n",
       "      <td>140222143932-91796b01f94327ee809bd759fd0f6c76</td>\n",
       "      <td>2.0</td>\n",
       "      <td>NaN</td>\n",
       "      <td>1035.0</td>\n",
       "      <td>NaN</td>\n",
       "      <td>NaN</td>\n",
       "      <td>NaN</td>\n",
       "      <td>NaN</td>\n",
       "      <td>NaN</td>\n",
       "      <td>NaN</td>\n",
       "      <td>NaN</td>\n",
       "      <td>NaN</td>\n",
       "      <td>NaN</td>\n",
       "      <td>NaN</td>\n",
       "      <td>NaN</td>\n",
       "      <td>NaN</td>\n",
       "    </tr>\n",
       "    <tr>\n",
       "      <th>3</th>\n",
       "      <td>1393631983</td>\n",
       "      <td>ade7e1f63bc83c66</td>\n",
       "      <td>external</td>\n",
       "      <td>browser</td>\n",
       "      <td>Opera/9.80 (Windows NT 6.1) Presto/2.12.388 Ve...</td>\n",
       "      <td>b5af0ba608ab307c</td>\n",
       "      <td>BR</td>\n",
       "      <td>53c643c16e8253e7</td>\n",
       "      <td>reader</td>\n",
       "      <td>140222143932-91796b01f94327ee809bd759fd0f6c76</td>\n",
       "      <td>pagereadtime</td>\n",
       "      <td>doc</td>\n",
       "      <td>140222143932-91796b01f94327ee809bd759fd0f6c76</td>\n",
       "      <td>3.0</td>\n",
       "      <td>NaN</td>\n",
       "      <td>1010.0</td>\n",
       "      <td>NaN</td>\n",
       "      <td>NaN</td>\n",
       "      <td>NaN</td>\n",
       "      <td>NaN</td>\n",
       "      <td>NaN</td>\n",
       "      <td>NaN</td>\n",
       "      <td>NaN</td>\n",
       "      <td>NaN</td>\n",
       "      <td>NaN</td>\n",
       "      <td>NaN</td>\n",
       "      <td>NaN</td>\n",
       "      <td>NaN</td>\n",
       "    </tr>\n",
       "    <tr>\n",
       "      <th>4</th>\n",
       "      <td>1393631983</td>\n",
       "      <td>232eeca785873d35</td>\n",
       "      <td>internal</td>\n",
       "      <td>browser</td>\n",
       "      <td>Mozilla/5.0 (Windows NT 6.1; WOW64) AppleWebKi...</td>\n",
       "      <td>fcf9c67037f993f0</td>\n",
       "      <td>MX</td>\n",
       "      <td>63765fcd2ff864fd</td>\n",
       "      <td>stream</td>\n",
       "      <td>NaN</td>\n",
       "      <td>impression</td>\n",
       "      <td>doc</td>\n",
       "      <td>100713205147-2ee05a98f1794324952eea5ca678c026</td>\n",
       "      <td>1.0</td>\n",
       "      <td>NaN</td>\n",
       "      <td>NaN</td>\n",
       "      <td>10.0</td>\n",
       "      <td>1.7.118-b946</td>\n",
       "      <td>explore</td>\n",
       "      <td>editors_picks</td>\n",
       "      <td>NaN</td>\n",
       "      <td>NaN</td>\n",
       "      <td>NaN</td>\n",
       "      <td>NaN</td>\n",
       "      <td>NaN</td>\n",
       "      <td>NaN</td>\n",
       "      <td>NaN</td>\n",
       "      <td>NaN</td>\n",
       "    </tr>\n",
       "  </tbody>\n",
       "</table>\n",
       "</div>"
      ],
      "text/plain": [
       "           ts      visitor_uuid visitor_source visitor_device                                  visitor_useragent        visitor_ip visitor_country  visitor_referrer env_type                                     env_doc_id    event_type subject_type                                 subject_doc_id  subject_page  cause_type  event_readtime  env_ranking     env_build env_name  env_component visitor_username  event_index  subject_infoboxid subject_url  cause_position cause_adid env_adid cause_embedid\n",
       "0  1393631983  04daa9ed9dde73d3       external        browser  Mozilla/5.0 (Windows NT 6.1; WOW64) AppleWebKi...  6a3273d508a9de04              ES  64f729926497515c   reader  140224195414-e5a9acedd5eb6631bb6b39422fba6798    impression          doc  140224195414-e5a9acedd5eb6631bb6b39422fba6798           0.0  impression             NaN          NaN           NaN      NaN            NaN              NaN          NaN                NaN         NaN             NaN        NaN      NaN           NaN\n",
       "1  1393631983  04daa9ed9dde73d3       external        browser  Mozilla/5.0 (Windows NT 6.1; WOW64) AppleWebKi...  6a3273d508a9de04              ES  64f729926497515c   reader  140224195414-e5a9acedd5eb6631bb6b39422fba6798    impression          doc  140224195414-e5a9acedd5eb6631bb6b39422fba6798           1.0        page             NaN          NaN           NaN      NaN            NaN              NaN          NaN                NaN         NaN             NaN        NaN      NaN           NaN\n",
       "2  1393631983  ade7e1f63bc83c66       external        browser  Opera/9.80 (Windows NT 6.1) Presto/2.12.388 Ve...  b5af0ba608ab307c              BR  53c643c16e8253e7   reader  140222143932-91796b01f94327ee809bd759fd0f6c76  pagereadtime          doc  140222143932-91796b01f94327ee809bd759fd0f6c76           2.0         NaN          1035.0          NaN           NaN      NaN            NaN              NaN          NaN                NaN         NaN             NaN        NaN      NaN           NaN\n",
       "3  1393631983  ade7e1f63bc83c66       external        browser  Opera/9.80 (Windows NT 6.1) Presto/2.12.388 Ve...  b5af0ba608ab307c              BR  53c643c16e8253e7   reader  140222143932-91796b01f94327ee809bd759fd0f6c76  pagereadtime          doc  140222143932-91796b01f94327ee809bd759fd0f6c76           3.0         NaN          1010.0          NaN           NaN      NaN            NaN              NaN          NaN                NaN         NaN             NaN        NaN      NaN           NaN\n",
       "4  1393631983  232eeca785873d35       internal        browser  Mozilla/5.0 (Windows NT 6.1; WOW64) AppleWebKi...  fcf9c67037f993f0              MX  63765fcd2ff864fd   stream                                            NaN    impression          doc  100713205147-2ee05a98f1794324952eea5ca678c026           1.0         NaN             NaN         10.0  1.7.118-b946  explore  editors_picks              NaN          NaN                NaN         NaN             NaN        NaN      NaN           NaN"
      ]
     },
     "execution_count": 36,
     "metadata": {},
     "output_type": "execute_result"
    }
   ],
   "source": [
    "df.head()"
   ]
  },
  {
   "cell_type": "code",
   "execution_count": 37,
   "metadata": {},
   "outputs": [
    {
     "data": {
      "text/plain": [
       "88e603304d3c0276    89\n",
       "499c728b074ecbc6    79\n",
       "a913c0d2ad1a8750    45\n",
       "31752e9bcedc2d8a    39\n",
       "6016e00a62b98ed2    30\n",
       "c4201a0129152539    16\n",
       "4ace800f2d0816ed    16\n",
       "187a91cbdf1d5699    14\n",
       "d14416acf069b629    10\n",
       "4bece9ad56064de6    10\n",
       "b8a225cbf5bab5b4     9\n",
       "5e334121ac7c5ca5     8\n",
       "cb4b6a2c87035c7e     8\n",
       "583fe3284bdadad8     8\n",
       "b9cab763d922e0e2     8\n",
       "d969f232a69bdc43     6\n",
       "930e0dbe31fc4870     6\n",
       "7ff36e71c70dc55f     5\n",
       "f1243409e46f832c     4\n",
       "2a19664269ec4c79     4\n",
       "ebc1375546f4f5e9     4\n",
       "684d1c06161e1e1d     4\n",
       "a6199f7225c3bb16     4\n",
       "1837c2a0b02b4062     4\n",
       "3614a6673f0be2e8     3\n",
       "10d60c38acf3c100     3\n",
       "c25cef69b238599a     2\n",
       "31e06dcf794cfa92     2\n",
       "7c267ab748a1d009     2\n",
       "d92023de82fc7674     2\n",
       "efa1f746f70ebe87     1\n",
       "69b7038d7e625353     1\n",
       "cbfb4de41e554a1f     1\n",
       "ea4ec34c0fe776e8     1\n",
       "aadf3ebda298ca5a     1\n",
       "7b2a1a150445fdc8     1\n",
       "e99eb55a0ec49c2f     1\n",
       "c11ddcfc35485a29     1\n",
       "df752e29f3380b37     1\n",
       "5252c0df6c7416d5     1\n",
       "6d4a1f9ffc39370d     1\n",
       "Name: visitor_username, dtype: int64"
      ]
     },
     "execution_count": 37,
     "metadata": {},
     "output_type": "execute_result"
    }
   ],
   "source": [
    "df['visitor_username'].value_counts()"
   ]
  },
  {
   "cell_type": "code",
   "execution_count": 35,
   "metadata": {},
   "outputs": [
    {
     "data": {
      "text/plain": [
       "['Mozilla/5.0',\n",
       " '(Macintosh;',\n",
       " 'Intel',\n",
       " 'Mac',\n",
       " 'OS',\n",
       " 'X',\n",
       " '10_9_1)',\n",
       " 'AppleWebKit/537.36',\n",
       " '(KHTML,',\n",
       " 'like',\n",
       " 'Gecko)',\n",
       " 'Chrome/33.0.1750.117',\n",
       " 'Safari/537.36']"
      ]
     },
     "execution_count": 35,
     "metadata": {},
     "output_type": "execute_result"
    }
   ],
   "source": [
    "str.split(df.visitor_useragent[35],\" \")"
   ]
  },
  {
   "cell_type": "code",
   "execution_count": null,
   "metadata": {},
   "outputs": [],
   "source": []
  }
 ],
 "metadata": {
  "kernelspec": {
   "display_name": "Python 3.10.8 64-bit (microsoft store)",
   "language": "python",
   "name": "python3"
  },
  "language_info": {
   "codemirror_mode": {
    "name": "ipython",
    "version": 3
   },
   "file_extension": ".py",
   "mimetype": "text/x-python",
   "name": "python",
   "nbconvert_exporter": "python",
   "pygments_lexer": "ipython3",
   "version": "3.10.8"
  },
  "orig_nbformat": 4,
  "vscode": {
   "interpreter": {
    "hash": "65370ced8afa8f7192283abd5c3f9b984ef8727c950a3854cda5b3a1f61e609e"
   }
  }
 },
 "nbformat": 4,
 "nbformat_minor": 2
}
